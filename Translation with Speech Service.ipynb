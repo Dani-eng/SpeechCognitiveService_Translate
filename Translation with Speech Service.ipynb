{
 "cells": [
  {
   "cell_type": "markdown",
   "metadata": {},
   "source": [
    "# Using Speech Services for Translation\n",
    "\n",
    "Recently Microsoft discontinued its Azure Speech Translate Cognitive Service, or rhater, migrated it over to another service: the _Speech Service_.\n",
    "\n",
    "This means that working with speech translation is now more similar to working with speech to text or text to speech. This also means that you now work through [an SDK](https://docs.microsoft.com/en-us/azure/cognitive-services/speech-service/) that is available almost everywhere, making things easier.\n",
    "\n",
    "So in this notebook I demonstrate how to do this with Python."
   ]
  },
  {
   "cell_type": "markdown",
   "metadata": {},
   "source": [
    "## Installing and importing the SDK"
   ]
  },
  {
   "cell_type": "code",
   "execution_count": 1,
   "metadata": {},
   "outputs": [
    {
     "name": "stdout",
     "output_type": "stream",
     "text": [
      "Requirement already satisfied: azure-cognitiveservices-speech in /Library/Frameworks/Python.framework/Versions/3.7/lib/python3.7/site-packages (1.3.1)\r\n"
     ]
    }
   ],
   "source": [
    "!pip install azure-cognitiveservices-speech"
   ]
  },
  {
   "cell_type": "code",
   "execution_count": 2,
   "metadata": {},
   "outputs": [],
   "source": [
    "import azure.cognitiveservices.speech.translation as tl"
   ]
  },
  {
   "cell_type": "markdown",
   "metadata": {},
   "source": [
    "## Configuring Your Service\n",
    "\n",
    "Here you would like to change my speech_key for your own, since I may stop my service soon, and even if I don't, it is the free version, which means it is a bit limited when it comes to how many hours of audio this service can translate every month."
   ]
  },
  {
   "cell_type": "code",
   "execution_count": 3,
   "metadata": {},
   "outputs": [],
   "source": [
    "speech_key, service_region = \"7b6d5678bfef4f9ba3bf72b528a6be00\", \"southcentralus\"\n",
    "\n",
    "# We will be translating American English to Spanish and German (ESpañol and DEutsche)\n",
    "speech_config = tl.SpeechTranslationConfig(subscription=speech_key, region=service_region, target_languages=['es', 'de'])\n",
    "\n",
    "speech_config.speech_recognition_language = 'en-US'"
   ]
  },
  {
   "cell_type": "markdown",
   "metadata": {},
   "source": [
    "## Creating and Using the Recognizer"
   ]
  },
  {
   "cell_type": "code",
   "execution_count": 4,
   "metadata": {},
   "outputs": [],
   "source": [
    "recognizer = tl.TranslationRecognizer(translation_config=speech_config)"
   ]
  },
  {
   "cell_type": "code",
   "execution_count": 6,
   "metadata": {},
   "outputs": [
    {
     "name": "stdout",
     "output_type": "stream",
     "text": [
      "Say something in English to be translated into Spanish and German:\n"
     ]
    }
   ],
   "source": [
    "print(\"Say something in English to be translated into Spanish and German:\")\n",
    "\n",
    "result = recognizer.recognize_once()"
   ]
  },
  {
   "cell_type": "code",
   "execution_count": 7,
   "metadata": {},
   "outputs": [
    {
     "data": {
      "text/plain": [
       "<azure.cognitiveservices.speech.translation.TranslationRecognitionResult at 0x10cb59518>"
      ]
     },
     "execution_count": 7,
     "metadata": {},
     "output_type": "execute_result"
    }
   ],
   "source": [
    "result"
   ]
  },
  {
   "cell_type": "markdown",
   "metadata": {},
   "source": [
    "## Displaying the result\n",
    "\n",
    "Yei! We got a result, not it is time to read what is in that ```TranslationRecognitionResult``` element"
   ]
  },
  {
   "cell_type": "code",
   "execution_count": 8,
   "metadata": {},
   "outputs": [],
   "source": [
    "import azure.cognitiveservices.speech as sp\n",
    "import json"
   ]
  },
  {
   "cell_type": "code",
   "execution_count": 9,
   "metadata": {},
   "outputs": [
    {
     "name": "stdout",
     "output_type": "stream",
     "text": [
      "The translations are ready:\n",
      "es - ¿Debo compartir esto desde GitHub desde un bloc de notas de Azure o desde un bloc de notas de Google collab Pyhton?\n",
      "de - Soll ich das von github aus einem Azure-Notebook oder von einem Google-Kollab-Pyhton-Notebook teilen?\n"
     ]
    }
   ],
   "source": [
    "if result.reason == sp.ResultReason.TranslatedSpeech:\n",
    "    print('The translations are ready:')\n",
    "    translations = json.loads(result.json)\n",
    "    for translation in translations['Translation']['Translations']:\n",
    "        print(translation['Language'], '-', translation['Text'])\n",
    "else:\n",
    "    print(\"We couldn't recognize this audio, please try again!\")"
   ]
  },
  {
   "cell_type": "code",
   "execution_count": null,
   "metadata": {},
   "outputs": [],
   "source": []
  }
 ],
 "metadata": {
  "kernelspec": {
   "display_name": "Python 3",
   "language": "python",
   "name": "python3"
  },
  "language_info": {
   "codemirror_mode": {
    "name": "ipython",
    "version": 3
   },
   "file_extension": ".py",
   "mimetype": "text/x-python",
   "name": "python",
   "nbconvert_exporter": "python",
   "pygments_lexer": "ipython3",
   "version": "3.7.1"
  }
 },
 "nbformat": 4,
 "nbformat_minor": 2
}
